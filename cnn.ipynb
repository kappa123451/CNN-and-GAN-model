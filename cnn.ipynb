{
 "cells": [
  {
   "cell_type": "code",
   "execution_count": 70,
   "metadata": {},
   "outputs": [
    {
     "name": "stdout",
     "output_type": "stream",
     "text": [
      "cuda\n"
     ]
    }
   ],
   "source": [
    "from sklearn.datasets import fetch_lfw_people\n",
    "from sklearn.model_selection import train_test_split\n",
    "from sklearn.metrics import classification_report\n",
    "from torch.utils.data import DataLoader, TensorDataset\n",
    "# torch 本身的套件\n",
    "import torch\n",
    "# torch functions\n",
    "import torch.nn.functional as F\n",
    "# torch neural network functions\n",
    "import torch.nn as nn\n",
    "# optim = optimizer\n",
    "import torch.optim as optim\n",
    "# easier for data optimisation\n",
    "import torch.utils.data as Data\n",
    "# 可以簡單看到自己的 nn model 疊成甚麼鳥樣\n",
    "from torchinfo import summary\n",
    "# 就...numpy\n",
    "import numpy as np\n",
    "# 畫圖用 plotting\n",
    "import matplotlib.pyplot as plt\n",
    "DEVICE = torch.device(\"cuda\")\n",
    "# 確認自己是用 cpu 還是 gpu (gpu就會寫CUDA)\n",
    "# 為了以後方便請查一下怎麼變CUDA，如果你是cpu的話。\n",
    "import torchvision\n",
    "import torchvision.transforms as transforms\n",
    "print(DEVICE)"
   ]
  },
  {
   "cell_type": "code",
   "execution_count": 71,
   "metadata": {},
   "outputs": [
    {
     "name": "stdout",
     "output_type": "stream",
     "text": [
      "Files already downloaded and verified\n",
      "Files already downloaded and verified\n"
     ]
    }
   ],
   "source": [
    "transform = transforms.Compose(\n",
    "    [transforms.ToTensor(),\n",
    "     transforms.Normalize((0.5, 0.5, 0.5), (0.5, 0.5, 0.5))])\n",
    "\n",
    "'''\n",
    "data augmentation\n",
    "transform_test = transforms.Compose(\n",
    "    [transforms.ToTensor(),\n",
    "     transforms.Normalize((0.5, 0.5, 0.5), (0.5, 0.5, 0.5))])\n",
    "'''\n",
    "\n",
    "batch_size = 4\n",
    "\n",
    "trainset = torchvision.datasets.CIFAR10(root='./data', train=True,\n",
    "                                        download=True, transform=transform)\n",
    "\n",
    "\n",
    "trainloader = torch.utils.data.DataLoader(trainset, batch_size=batch_size,\n",
    "                                          shuffle=True, num_workers=2)\n",
    "\n",
    "testset = torchvision.datasets.CIFAR10(root='./data', train=False,\n",
    "                                       download=True, transform=transform)\n",
    "testloader = torch.utils.data.DataLoader(testset, batch_size=batch_size,\n",
    "                                         shuffle=False, num_workers=2)\n"
   ]
  },
  {
   "cell_type": "code",
   "execution_count": 72,
   "metadata": {},
   "outputs": [
    {
     "name": "stdout",
     "output_type": "stream",
     "text": [
      "torch.Size([3, 32, 32])\n",
      "50000\n"
     ]
    }
   ],
   "source": [
    "print(trainset[0][0].shape)\n",
    "#getting the shape for each data\n",
    "print(len(trainset))\n",
    "#train set size"
   ]
  },
  {
   "cell_type": "code",
   "execution_count": 73,
   "metadata": {},
   "outputs": [
    {
     "data": {
      "text/plain": [
       "==========================================================================================\n",
       "Layer (type:depth-idx)                   Output Shape              Param #\n",
       "==========================================================================================\n",
       "Net                                      [16, 10]                  --\n",
       "├─Sequential: 1-1                        [16, 512, 2, 2]           --\n",
       "│    └─Conv2d: 2-1                       [16, 64, 32, 32]          1,792\n",
       "│    └─ReLU: 2-2                         [16, 64, 32, 32]          --\n",
       "│    └─Conv2d: 2-3                       [16, 64, 32, 32]          36,928\n",
       "│    └─ReLU: 2-4                         [16, 64, 32, 32]          --\n",
       "│    └─MaxPool2d: 2-5                    [16, 64, 16, 16]          --\n",
       "│    └─Conv2d: 2-6                       [16, 128, 16, 16]         73,856\n",
       "│    └─ReLU: 2-7                         [16, 128, 16, 16]         --\n",
       "│    └─Conv2d: 2-8                       [16, 128, 16, 16]         147,584\n",
       "│    └─ReLU: 2-9                         [16, 128, 16, 16]         --\n",
       "│    └─MaxPool2d: 2-10                   [16, 128, 8, 8]           --\n",
       "│    └─Conv2d: 2-11                      [16, 256, 8, 8]           295,168\n",
       "│    └─ReLU: 2-12                        [16, 256, 8, 8]           --\n",
       "│    └─Conv2d: 2-13                      [16, 256, 8, 8]           590,080\n",
       "│    └─ReLU: 2-14                        [16, 256, 8, 8]           --\n",
       "│    └─Conv2d: 2-15                      [16, 256, 8, 8]           590,080\n",
       "│    └─ReLU: 2-16                        [16, 256, 8, 8]           --\n",
       "│    └─MaxPool2d: 2-17                   [16, 256, 4, 4]           --\n",
       "│    └─Conv2d: 2-18                      [16, 512, 4, 4]           1,180,160\n",
       "│    └─ReLU: 2-19                        [16, 512, 4, 4]           --\n",
       "│    └─Conv2d: 2-20                      [16, 512, 4, 4]           2,359,808\n",
       "│    └─ReLU: 2-21                        [16, 512, 4, 4]           --\n",
       "│    └─Conv2d: 2-22                      [16, 512, 4, 4]           2,359,808\n",
       "│    └─ReLU: 2-23                        [16, 512, 4, 4]           --\n",
       "│    └─MaxPool2d: 2-24                   [16, 512, 2, 2]           --\n",
       "├─Sequential: 1-2                        [16, 10]                  --\n",
       "│    └─Linear: 2-25                      [16, 520]                 1,065,480\n",
       "│    └─ReLU: 2-26                        [16, 520]                 --\n",
       "│    └─Dropout: 2-27                     [16, 520]                 --\n",
       "│    └─Linear: 2-28                      [16, 128]                 66,688\n",
       "│    └─ReLU: 2-29                        [16, 128]                 --\n",
       "│    └─Dropout: 2-30                     [16, 128]                 --\n",
       "│    └─Linear: 2-31                      [16, 10]                  1,290\n",
       "==========================================================================================\n",
       "Total params: 8,768,722\n",
       "Trainable params: 8,768,722\n",
       "Non-trainable params: 0\n",
       "Total mult-adds (G): 4.58\n",
       "==========================================================================================\n",
       "Input size (MB): 0.20\n",
       "Forward/backward pass size (MB): 34.69\n",
       "Params size (MB): 35.07\n",
       "Estimated Total Size (MB): 69.96\n",
       "=========================================================================================="
      ]
     },
     "execution_count": 73,
     "metadata": {},
     "output_type": "execute_result"
    }
   ],
   "source": [
    "class Net(nn.Module):\n",
    "    def __init__(self):\n",
    "        super(Net, self).__init__()\n",
    "        # 就是把一群東西堆成一個block\n",
    "        self.cnn = nn.Sequential(\n",
    "            # conv1\n",
    "            nn.Conv2d(3, 64, 3, padding=1),\n",
    "            nn.ReLU(),\n",
    "            nn.Conv2d(64, 64, 3, padding=1),\n",
    "            nn.ReLU(),\n",
    "            nn.MaxPool2d(2, stride=2),\n",
    "\n",
    "            # conv2\n",
    "            nn.Conv2d(64, 128, 3, padding=1),\n",
    "            nn.ReLU(),\n",
    "            nn.Conv2d(128, 128, 3, padding=1),\n",
    "            nn.ReLU(),\n",
    "            nn.MaxPool2d(2, stride=2),\n",
    "\n",
    "            # conv3\n",
    "            nn.Conv2d(128, 256, 3, padding=1),\n",
    "            nn.ReLU(),\n",
    "            nn.Conv2d(256, 256, 3, padding=1),\n",
    "            nn.ReLU(),\n",
    "            nn.Conv2d(256, 256, 3, padding=1),\n",
    "            nn.ReLU(),\n",
    "            nn.MaxPool2d(2, stride=2),\n",
    "\n",
    "            # conv4\n",
    "            nn.Conv2d(256, 512, 3, padding=1),\n",
    "            nn.ReLU(),\n",
    "            nn.Conv2d(512, 512, 3, padding=1),\n",
    "            nn.ReLU(),\n",
    "            nn.Conv2d(512, 512, 3, padding=1),\n",
    "            nn.ReLU(),\n",
    "            nn.MaxPool2d(2, stride=2),\n",
    "\n",
    "            # # conv5\n",
    "            # nn.Conv2d(512, 512, 3, padding=1),\n",
    "            # nn.ReLU(),\n",
    "            # nn.Conv2d(512, 512, 3, padding=1),\n",
    "            # nn.ReLU(),\n",
    "            # nn.Conv2d(512, 512, 3, padding=1),\n",
    "            # nn.ReLU(),\n",
    "            # nn.MaxPool2d(2, stride=2)\n",
    "        )\n",
    "        self.fc = nn.Sequential(\n",
    "            nn.Linear(128*4*4, 520),\n",
    "            nn.ReLU(),\n",
    "            nn.Dropout(),\n",
    "            nn.Linear(520, 128),\n",
    "            nn.ReLU(),\n",
    "            nn.Dropout(),\n",
    "            nn.Linear(128, 10)\n",
    "        )\n",
    "\n",
    "    def forward(self, x):\n",
    "        x = self.cnn(x)\n",
    "        x = x.view([x.size()[0], -1])\n",
    "        x = self.fc(x)\n",
    "        return x\n",
    "\n",
    "\n",
    "net = Net().cuda()\n",
    "summary(net, input_size=(16, 3, 32, 32))"
   ]
  },
  {
   "cell_type": "code",
   "execution_count": 74,
   "metadata": {},
   "outputs": [],
   "source": [
    "optimizer = optim.Adam(net.parameters(), lr=1e-4)\n",
    "criterion = nn.CrossEntropyLoss()"
   ]
  },
  {
   "cell_type": "code",
   "execution_count": 75,
   "metadata": {},
   "outputs": [],
   "source": [
    "def run_epoch(dataloader, update=True):\n",
    "    total_num, total_hit, total_loss = 0, 0, 0\n",
    "    for now_step, batch_data in enumerate(dataloader):\n",
    "        # 將優化器歸零 (需要更新的參數會放在optimizer裡面，所以下一次更新要手動清0)\n",
    "        optimizer.zero_grad()\n",
    "        # 拿這次要訓練的 batch\n",
    "        inputs, labels = batch_data\n",
    "        # 將資料轉到 device (有GPU就是GPU)\n",
    "        inputs = inputs.to(DEVICE)\n",
    "        labels = labels.to(DEVICE)\n",
    "\n",
    "        # 將資料過NN\n",
    "        if update:\n",
    "            logits = net(inputs)\n",
    "            loss = criterion(logits, labels) \n",
    "            loss.backward()\n",
    "            # 將記錄在優化器的參數更新到模型上面\n",
    "            optimizer.step()    \n",
    "        else:\n",
    "            # 宣告自己沒有要更新model的意思\n",
    "            with torch.no_grad():\n",
    "                logits = net(inputs)\n",
    "                loss = criterion(logits, labels) \n",
    "            \n",
    "        # 計算有沒有算對\n",
    "        total_hit += torch.sum(torch.argmax(logits, dim=1) == labels).item()\n",
    "\n",
    "        total_num += len(inputs)\n",
    "        total_loss += loss.item() * len(inputs)\n",
    "    return total_loss / total_num, total_hit / total_num\n"
   ]
  },
  {
   "cell_type": "code",
   "execution_count": 76,
   "metadata": {},
   "outputs": [],
   "source": [
    "now_best_acc = 0\n",
    "for epoch in range(20):\n",
    "    net.train()\n",
    "    train_loss, train_acc = run_epoch(trainloader, update=True)\n",
    "    net.eval()\n",
    "    valid_loss, valid_acc = run_epoch(testloader, update=False)\n",
    "\n",
    "    print('epoch {:>3d}: train loss: {:6.4f}, acc {:6.4f} valid loss: {:6.4f}, acc {:6.4f}'.format(\n",
    "        epoch, train_loss, train_acc, valid_loss, valid_acc))\n"
   ]
  }
 ],
 "metadata": {
  "kernelspec": {
   "display_name": "base",
   "language": "python",
   "name": "python3"
  },
  "language_info": {
   "codemirror_mode": {
    "name": "ipython",
    "version": 3
   },
   "file_extension": ".py",
   "mimetype": "text/x-python",
   "name": "python",
   "nbconvert_exporter": "python",
   "pygments_lexer": "ipython3",
   "version": "3.8.3"
  },
  "orig_nbformat": 4
 },
 "nbformat": 4,
 "nbformat_minor": 2
}
